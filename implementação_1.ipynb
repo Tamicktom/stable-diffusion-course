{
 "cells": [
  {
   "cell_type": "code",
   "execution_count": 2,
   "metadata": {},
   "outputs": [
    {
     "name": "stdout",
     "output_type": "stream",
     "text": [
      "Requirement already satisfied: diffusers in c:\\users\\rickp\\appdata\\local\\programs\\python\\python311\\lib\\site-packages (0.25.0)\n",
      "Requirement already satisfied: importlib-metadata in c:\\users\\rickp\\appdata\\local\\programs\\python\\python311\\lib\\site-packages (from diffusers) (7.0.1)\n",
      "Requirement already satisfied: filelock in c:\\users\\rickp\\appdata\\local\\programs\\python\\python311\\lib\\site-packages (from diffusers) (3.13.1)\n",
      "Requirement already satisfied: huggingface-hub>=0.19.4 in c:\\users\\rickp\\appdata\\local\\programs\\python\\python311\\lib\\site-packages (from diffusers) (0.20.2)\n",
      "Requirement already satisfied: numpy in c:\\users\\rickp\\appdata\\local\\programs\\python\\python311\\lib\\site-packages (from diffusers) (1.26.2)\n",
      "Requirement already satisfied: regex!=2019.12.17 in c:\\users\\rickp\\appdata\\local\\programs\\python\\python311\\lib\\site-packages (from diffusers) (2023.12.25)\n",
      "Requirement already satisfied: requests in c:\\users\\rickp\\appdata\\local\\programs\\python\\python311\\lib\\site-packages (from diffusers) (2.31.0)\n",
      "Requirement already satisfied: safetensors>=0.3.1 in c:\\users\\rickp\\appdata\\local\\programs\\python\\python311\\lib\\site-packages (from diffusers) (0.4.1)\n",
      "Requirement already satisfied: Pillow in c:\\users\\rickp\\appdata\\local\\programs\\python\\python311\\lib\\site-packages (from diffusers) (10.1.0)\n",
      "Requirement already satisfied: fsspec>=2023.5.0 in c:\\users\\rickp\\appdata\\local\\programs\\python\\python311\\lib\\site-packages (from huggingface-hub>=0.19.4->diffusers) (2023.12.2)\n",
      "Requirement already satisfied: tqdm>=4.42.1 in c:\\users\\rickp\\appdata\\local\\programs\\python\\python311\\lib\\site-packages (from huggingface-hub>=0.19.4->diffusers) (4.66.1)\n",
      "Requirement already satisfied: pyyaml>=5.1 in c:\\users\\rickp\\appdata\\local\\programs\\python\\python311\\lib\\site-packages (from huggingface-hub>=0.19.4->diffusers) (6.0.1)\n",
      "Requirement already satisfied: typing-extensions>=3.7.4.3 in c:\\users\\rickp\\appdata\\local\\programs\\python\\python311\\lib\\site-packages (from huggingface-hub>=0.19.4->diffusers) (4.9.0)\n",
      "Requirement already satisfied: packaging>=20.9 in c:\\users\\rickp\\appdata\\roaming\\python\\python311\\site-packages (from huggingface-hub>=0.19.4->diffusers) (23.2)\n",
      "Requirement already satisfied: zipp>=0.5 in c:\\users\\rickp\\appdata\\local\\programs\\python\\python311\\lib\\site-packages (from importlib-metadata->diffusers) (3.17.0)\n",
      "Requirement already satisfied: charset-normalizer<4,>=2 in c:\\users\\rickp\\appdata\\local\\programs\\python\\python311\\lib\\site-packages (from requests->diffusers) (3.3.2)\n",
      "Requirement already satisfied: idna<4,>=2.5 in c:\\users\\rickp\\appdata\\local\\programs\\python\\python311\\lib\\site-packages (from requests->diffusers) (3.6)\n",
      "Requirement already satisfied: urllib3<3,>=1.21.1 in c:\\users\\rickp\\appdata\\local\\programs\\python\\python311\\lib\\site-packages (from requests->diffusers) (2.1.0)\n",
      "Requirement already satisfied: certifi>=2017.4.17 in c:\\users\\rickp\\appdata\\local\\programs\\python\\python311\\lib\\site-packages (from requests->diffusers) (2023.11.17)\n",
      "Requirement already satisfied: colorama in c:\\users\\rickp\\appdata\\roaming\\python\\python311\\site-packages (from tqdm>=4.42.1->huggingface-hub>=0.19.4->diffusers) (0.4.6)\n",
      "Note: you may need to restart the kernel to use updated packages.\n"
     ]
    },
    {
     "name": "stderr",
     "output_type": "stream",
     "text": [
      "\n",
      "[notice] A new release of pip is available: 23.2.1 -> 23.3.2\n",
      "[notice] To update, run: python.exe -m pip install --upgrade pip\n"
     ]
    }
   ],
   "source": [
    "%pip install diffusers\n",
    "%pip install accelerate\n",
    "%pip install transformers\n",
    "%pip install ftfy\n",
    "%pip install bitsandbytes\n",
    "%pip install gradio\n",
    "%pip install natsort\n",
    "%pip install safetensors\n",
    "%pip install xformers"
   ]
  },
  {
   "cell_type": "code",
   "execution_count": null,
   "metadata": {},
   "outputs": [],
   "source": []
  }
 ],
 "metadata": {
  "kernelspec": {
   "display_name": "Python 3",
   "language": "python",
   "name": "python3"
  },
  "language_info": {
   "codemirror_mode": {
    "name": "ipython",
    "version": 3
   },
   "file_extension": ".py",
   "mimetype": "text/x-python",
   "name": "python",
   "nbconvert_exporter": "python",
   "pygments_lexer": "ipython3",
   "version": "3.11.5"
  }
 },
 "nbformat": 4,
 "nbformat_minor": 2
}
